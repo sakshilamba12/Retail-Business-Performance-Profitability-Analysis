{
 "cells": [
  {
   "cell_type": "code",
   "execution_count": 31,
   "id": "a868db72",
   "metadata": {},
   "outputs": [
    {
     "name": "stdout",
     "output_type": "stream",
     "text": [
      "  stockcode                  description  quantity  revenue    profit\n",
      "0     10002  INFLATABLE POLITICAL GLOBE        860   759.89  189.9725\n",
      "1     10002                          NaN       177     0.00    0.0000\n",
      "2     10080                        check        22     0.00    0.0000\n",
      "3     10080     GROOVY CACTUS INFLATABLE       303   119.09   29.7725\n",
      "4     10080                          NaN       170     0.00    0.0000\n"
     ]
    }
   ],
   "source": [
    "\n",
    "\n",
    "import pandas as pd\n",
    "\n",
    "df = pd.read_csv(r\"C:\\Users\\saksh\\Downloads\\python project\\update_online.csv\")\n",
    "\n",
    "print(df.head())\n"
   ]
  },
  {
   "cell_type": "code",
   "execution_count": 32,
   "id": "0c7d1893",
   "metadata": {},
   "outputs": [
    {
     "name": "stdout",
     "output_type": "stream",
     "text": [
      "     stockcode                 description  quantity    revenue       profit\n",
      "0        10002  Inflatable Political Globe       860    759.890    189.97250\n",
      "2        10080                       Check        22      0.000      0.00000\n",
      "3        10080    Groovy Cactus Inflatable       303    119.090     29.77250\n",
      "5        10120                Doggy Rubber       193     40.530     10.13250\n",
      "6       10123C        Hearts Wrapping Tape         5      3.250      0.81250\n",
      "...        ...                         ...       ...        ...          ...\n",
      "5746         m                      Manual         1      2.550      0.63750\n",
      "5747         M                      Manual      3164 -68674.190 -17168.54750\n",
      "5748      PADS  Pads To Match All Cushions         4      0.003      0.00075\n",
      "5749      POST                     Postage      3003  66230.640  16557.66000\n",
      "5751         S                     Samples       -59  -3049.390   -762.34750\n",
      "\n",
      "[4792 rows x 5 columns]\n"
     ]
    }
   ],
   "source": [
    "df = df.dropna(subset=['description'])  # Remove rows with missing descriptions\n",
    "df['description'] = df['description'].str.strip().str.title()  # Clean up product names\n",
    "print(df)"
   ]
  },
  {
   "cell_type": "code",
   "execution_count": 33,
   "id": "8f0e6a5d",
   "metadata": {},
   "outputs": [
    {
     "name": "stdout",
     "output_type": "stream",
     "text": [
      "Index(['stockcode', 'description', 'quantity', 'revenue', 'profit'], dtype='object')\n"
     ]
    }
   ],
   "source": [
    "print(df.columns)\n",
    "\n"
   ]
  },
  {
   "cell_type": "code",
   "execution_count": 34,
   "id": "12ff6bc3",
   "metadata": {},
   "outputs": [
    {
     "name": "stdout",
     "output_type": "stream",
     "text": [
      "stockcode      0\n",
      "description    0\n",
      "quantity       0\n",
      "revenue        0\n",
      "profit         0\n",
      "dtype: int64\n"
     ]
    }
   ],
   "source": [
    "print(df.isnull().sum())\n"
   ]
  },
  {
   "cell_type": "code",
   "execution_count": 35,
   "id": "d5672c2e",
   "metadata": {},
   "outputs": [],
   "source": [
    "df = df.dropna(subset=[\"description\", \"quantity\"])\n"
   ]
  },
  {
   "cell_type": "code",
   "execution_count": 37,
   "id": "07fe0b5f",
   "metadata": {},
   "outputs": [
    {
     "name": "stdout",
     "output_type": "stream",
     "text": [
      "     stockcode                 description  quantity    revenue       profit\n",
      "0        10002  Inflatable Political Globe       860    759.890    189.97250\n",
      "2        10080                       Check        22      0.000      0.00000\n",
      "3        10080    Groovy Cactus Inflatable       303    119.090     29.77250\n",
      "5        10120                Doggy Rubber       193     40.530     10.13250\n",
      "6       10123C        Hearts Wrapping Tape         5      3.250      0.81250\n",
      "...        ...                         ...       ...        ...          ...\n",
      "5746         m                      Manual         1      2.550      0.63750\n",
      "5747         M                      Manual      3164 -68674.190 -17168.54750\n",
      "5748      PADS  Pads To Match All Cushions         4      0.003      0.00075\n",
      "5749      POST                     Postage      3003  66230.640  16557.66000\n",
      "5751         S                     Samples       -59  -3049.390   -762.34750\n",
      "\n",
      "[4792 rows x 5 columns]\n"
     ]
    }
   ],
   "source": [
    "df[\"quantity\"] = pd.to_numeric(df[\"quantity\"], errors=\"coerce\")\n",
    "df[\"revenue\"] = pd.to_numeric(df[\"revenue\"], errors=\"coerce\")\n",
    "df[\"profit\"] = pd.to_numeric(df[\"profit\"], errors=\"coerce\")\n",
    "print(df)"
   ]
  },
  {
   "cell_type": "code",
   "execution_count": 38,
   "id": "4ca7b865",
   "metadata": {},
   "outputs": [],
   "source": [
    "df[\"inventorydays\"] = 365 / (df[\"quantity\"] / 12)\n"
   ]
  },
  {
   "cell_type": "code",
   "execution_count": 39,
   "id": "54c3dcac",
   "metadata": {},
   "outputs": [
    {
     "data": {
      "image/png": "[encoded data removed]",
      "text/plain": [
       "<Figure size 640x480 with 1 Axes>"
      ]
     },
     "metadata": {},
     "output_type": "display_data"
    }
   ],
   "source": [
    "import seaborn as sns\n",
    "import matplotlib.pyplot as plt\n",
    "\n",
    "sns.scatterplot(x=\"inventorydays\", y=\"profit\", data=df)\n",
    "plt.title(\"Profit vs Inventory Days\")\n",
    "plt.show()\n"
   ]
  },
  {
   "cell_type": "code",
   "execution_count": 40,
   "id": "52a54be3",
   "metadata": {},
   "outputs": [
    {
     "name": "stdout",
     "output_type": "stream",
     "text": [
      "Correlation between Inventory Days and Profit: nan\n"
     ]
    },
    {
     "name": "stderr",
     "output_type": "stream",
     "text": [
      "C:\\Users\\saksh\\AppData\\Local\\Packages\\PythonSoftwareFoundation.Python.3.12_qbz5n2kfra8p0\\LocalCache\\local-packages\\Python312\\site-packages\\numpy\\lib\\_function_base_impl.py:2888: RuntimeWarning: invalid value encountered in subtract\n",
      "  X -= avg[:, None]\n"
     ]
    }
   ],
   "source": [
    "correlation = df[\"inventorydays\"].corr(df[\"profit\"])\n",
    "print(f\"Correlation between Inventory Days and Profit: {correlation:.2f}\")\n"
   ]
  },
  {
   "cell_type": "code",
   "execution_count": 43,
   "id": "18ce9596",
   "metadata": {},
   "outputs": [
    {
     "name": "stdout",
     "output_type": "stream",
     "text": [
      "     stockcode                 description  quantity    revenue       profit  \\\n",
      "0        10002  Inflatable Political Globe       860    759.890    189.97250   \n",
      "2        10080                       Check        22      0.000      0.00000   \n",
      "3        10080    Groovy Cactus Inflatable       303    119.090     29.77250   \n",
      "5        10120                Doggy Rubber       193     40.530     10.13250   \n",
      "6       10123C        Hearts Wrapping Tape         5      3.250      0.81250   \n",
      "...        ...                         ...       ...        ...          ...   \n",
      "5746         m                      Manual         1      2.550      0.63750   \n",
      "5747         M                      Manual      3164 -68674.190 -17168.54750   \n",
      "5748      PADS  Pads To Match All Cushions         4      0.003      0.00075   \n",
      "5749      POST                     Postage      3003  66230.640  16557.66000   \n",
      "5751         S                     Samples       -59  -3049.390   -762.34750   \n",
      "\n",
      "      inventorydays       status  \n",
      "0          5.093023       Normal  \n",
      "2        199.090909  Overstocked  \n",
      "3         14.455446       Normal  \n",
      "5         22.694301       Normal  \n",
      "6        876.000000  Overstocked  \n",
      "...             ...          ...  \n",
      "5746    4380.000000  Overstocked  \n",
      "5747       1.384324       Normal  \n",
      "5748    1095.000000  Overstocked  \n",
      "5749       1.458541       Normal  \n",
      "5751     -74.237288       Normal  \n",
      "\n",
      "[4792 rows x 7 columns]\n"
     ]
    }
   ],
   "source": [
    "# Example rule: Inventory Days > 180 means slow-moving\n",
    "df[\"status\"] = df[\"inventorydays\"].apply(lambda x: \"Overstocked\" if x > 180 else \"Normal\")\n",
    "print(df)"
   ]
  },
  {
   "cell_type": "code",
   "execution_count": 44,
   "id": "ba110023",
   "metadata": {},
   "outputs": [
    {
     "name": "stdout",
     "output_type": "stream",
     "text": [
      "     stockcode                 description  quantity    revenue       profit  \\\n",
      "0        10002  Inflatable Political Globe       860    759.890    189.97250   \n",
      "2        10080                       Check        22      0.000      0.00000   \n",
      "3        10080    Groovy Cactus Inflatable       303    119.090     29.77250   \n",
      "5        10120                Doggy Rubber       193     40.530     10.13250   \n",
      "6       10123C        Hearts Wrapping Tape         5      3.250      0.81250   \n",
      "...        ...                         ...       ...        ...          ...   \n",
      "5746         m                      Manual         1      2.550      0.63750   \n",
      "5747         M                      Manual      3164 -68674.190 -17168.54750   \n",
      "5748      PADS  Pads To Match All Cushions         4      0.003      0.00075   \n",
      "5749      POST                     Postage      3003  66230.640  16557.66000   \n",
      "5751         S                     Samples       -59  -3049.390   -762.34750   \n",
      "\n",
      "      inventorydays       status  \n",
      "0          5.093023       Normal  \n",
      "2        199.090909  Overstocked  \n",
      "3         14.455446       Normal  \n",
      "5         22.694301       Normal  \n",
      "6        876.000000  Overstocked  \n",
      "...             ...          ...  \n",
      "5746    4380.000000  Overstocked  \n",
      "5747       1.384324       Normal  \n",
      "5748    1095.000000  Overstocked  \n",
      "5749       1.458541       Normal  \n",
      "5751     -74.237288       Normal  \n",
      "\n",
      "[4792 rows x 7 columns]\n"
     ]
    }
   ],
   "source": [
    "df.to_csv(\"processed_retail_data.csv\", index=False)\n",
    "print(df)\n"
   ]
  }
 ],
 "metadata": {
  "kernelspec": {
   "display_name": "Python 3",
   "language": "python",
   "name": "python3"
  },
  "language_info": {
   "codemirror_mode": {
    "name": "ipython",
    "version": 3
   },
   "file_extension": ".py",
   "mimetype": "text/x-python",
   "name": "python",
   "nbconvert_exporter": "python",
   "pygments_lexer": "ipython3",
   "version": "3.12.10"
  }
 },
 "nbformat": 4,
 "nbformat_minor": 5
}
